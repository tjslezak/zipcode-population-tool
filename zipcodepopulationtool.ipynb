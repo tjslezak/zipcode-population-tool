{
 "cells": [
  {
   "cell_type": "code",
   "execution_count": 1,
   "metadata": {},
   "outputs": [
    {
     "name": "stderr",
     "output_type": "stream",
     "text": [
      "/Users/tjs/anaconda3/envs/zipcode/lib/python3.6/site-packages/requests/__init__.py:91: RequestsDependencyWarning: urllib3 (1.20) or chardet (3.0.4) doesn't match a supported version!\n",
      "  RequestsDependencyWarning)\n"
     ]
    }
   ],
   "source": [
    "import pandas as pd\n",
    "import numpy as np\n",
    "from uszipcode import SearchEngine"
   ]
  },
  {
   "cell_type": "code",
   "execution_count": 2,
   "metadata": {},
   "outputs": [],
   "source": [
    "# Instantiate a Zipcode object.\n",
    "search = SearchEngine(simple_zipcode=True)"
   ]
  },
  {
   "cell_type": "code",
   "execution_count": 4,
   "metadata": {},
   "outputs": [
    {
     "data": {
      "text/html": [
       "<div>\n",
       "<style scoped>\n",
       "    .dataframe tbody tr th:only-of-type {\n",
       "        vertical-align: middle;\n",
       "    }\n",
       "\n",
       "    .dataframe tbody tr th {\n",
       "        vertical-align: top;\n",
       "    }\n",
       "\n",
       "    .dataframe thead th {\n",
       "        text-align: right;\n",
       "    }\n",
       "</style>\n",
       "<table border=\"1\" class=\"dataframe\">\n",
       "  <thead>\n",
       "    <tr style=\"text-align: right;\">\n",
       "      <th></th>\n",
       "      <th>Zip Code</th>\n",
       "      <th>City</th>\n",
       "      <th>State</th>\n",
       "      <th>Population (2010 Census)</th>\n",
       "      <th>Unnamed: 4</th>\n",
       "      <th>Macro Test</th>\n",
       "      <th>Unnamed: 6</th>\n",
       "      <th>Unnamed: 7</th>\n",
       "      <th>Unnamed: 8</th>\n",
       "      <th>Unnamed: 9</th>\n",
       "      <th>Unnamed: 10</th>\n",
       "    </tr>\n",
       "  </thead>\n",
       "  <tbody>\n",
       "    <tr>\n",
       "      <th>0</th>\n",
       "      <td>99546</td>\n",
       "      <td>Adak</td>\n",
       "      <td>AK</td>\n",
       "      <td>326</td>\n",
       "      <td>NaN</td>\n",
       "      <td>326.0</td>\n",
       "      <td>NaN</td>\n",
       "      <td>NaN</td>\n",
       "      <td>NaN</td>\n",
       "      <td>NaN</td>\n",
       "      <td>NaN</td>\n",
       "    </tr>\n",
       "    <tr>\n",
       "      <th>1</th>\n",
       "      <td>99571</td>\n",
       "      <td>Adak</td>\n",
       "      <td>AK</td>\n",
       "      <td>160</td>\n",
       "      <td>NaN</td>\n",
       "      <td>NaN</td>\n",
       "      <td>NaN</td>\n",
       "      <td>NaN</td>\n",
       "      <td>NaN</td>\n",
       "      <td>NaN</td>\n",
       "      <td>NaN</td>\n",
       "    </tr>\n",
       "    <tr>\n",
       "      <th>2</th>\n",
       "      <td>99615</td>\n",
       "      <td>Akhiok</td>\n",
       "      <td>AK</td>\n",
       "      <td>12,899</td>\n",
       "      <td>NaN</td>\n",
       "      <td>NaN</td>\n",
       "      <td>NaN</td>\n",
       "      <td>NaN</td>\n",
       "      <td>NaN</td>\n",
       "      <td>NaN</td>\n",
       "      <td>https://factfinder.census.gov/faces/nav/jsf/pa...</td>\n",
       "    </tr>\n",
       "    <tr>\n",
       "      <th>3</th>\n",
       "      <td>99551</td>\n",
       "      <td>Akiachak</td>\n",
       "      <td>AK</td>\n",
       "      <td>627</td>\n",
       "      <td>NaN</td>\n",
       "      <td>NaN</td>\n",
       "      <td>NaN</td>\n",
       "      <td>NaN</td>\n",
       "      <td>NaN</td>\n",
       "      <td>NaN</td>\n",
       "      <td>NaN</td>\n",
       "    </tr>\n",
       "    <tr>\n",
       "      <th>4</th>\n",
       "      <td>99552</td>\n",
       "      <td>Akiak</td>\n",
       "      <td>AK</td>\n",
       "      <td>346</td>\n",
       "      <td>NaN</td>\n",
       "      <td>NaN</td>\n",
       "      <td>NaN</td>\n",
       "      <td>NaN</td>\n",
       "      <td>NaN</td>\n",
       "      <td>NaN</td>\n",
       "      <td>NaN</td>\n",
       "    </tr>\n",
       "  </tbody>\n",
       "</table>\n",
       "</div>"
      ],
      "text/plain": [
       "  Zip Code      City State Population (2010 Census)  Unnamed: 4  Macro Test  \\\n",
       "0    99546      Adak    AK                      326         NaN       326.0   \n",
       "1    99571      Adak    AK                      160         NaN         NaN   \n",
       "2    99615    Akhiok    AK                   12,899         NaN         NaN   \n",
       "3    99551  Akiachak    AK                      627         NaN         NaN   \n",
       "4    99552     Akiak    AK                      346         NaN         NaN   \n",
       "\n",
       "   Unnamed: 6  Unnamed: 7  Unnamed: 8  Unnamed: 9  \\\n",
       "0         NaN         NaN         NaN         NaN   \n",
       "1         NaN         NaN         NaN         NaN   \n",
       "2         NaN         NaN         NaN         NaN   \n",
       "3         NaN         NaN         NaN         NaN   \n",
       "4         NaN         NaN         NaN         NaN   \n",
       "\n",
       "                                         Unnamed: 10  \n",
       "0                                                NaN  \n",
       "1                                                NaN  \n",
       "2  https://factfinder.census.gov/faces/nav/jsf/pa...  \n",
       "3                                                NaN  \n",
       "4                                                NaN  "
      ]
     },
     "execution_count": 4,
     "metadata": {},
     "output_type": "execute_result"
    }
   ],
   "source": [
    "# Read in the file containing the zip codes.\n",
    "df = pd.read_csv('tj_zips.csv')\n",
    "df.head()"
   ]
  },
  {
   "cell_type": "code",
   "execution_count": 6,
   "metadata": {},
   "outputs": [
    {
     "data": {
      "text/html": [
       "<div>\n",
       "<style scoped>\n",
       "    .dataframe tbody tr th:only-of-type {\n",
       "        vertical-align: middle;\n",
       "    }\n",
       "\n",
       "    .dataframe tbody tr th {\n",
       "        vertical-align: top;\n",
       "    }\n",
       "\n",
       "    .dataframe thead th {\n",
       "        text-align: right;\n",
       "    }\n",
       "</style>\n",
       "<table border=\"1\" class=\"dataframe\">\n",
       "  <thead>\n",
       "    <tr style=\"text-align: right;\">\n",
       "      <th></th>\n",
       "      <th>Zip_Code</th>\n",
       "      <th>City</th>\n",
       "      <th>State</th>\n",
       "      <th>Pop_2010</th>\n",
       "    </tr>\n",
       "  </thead>\n",
       "  <tbody>\n",
       "    <tr>\n",
       "      <th>0</th>\n",
       "      <td>99546</td>\n",
       "      <td>Adak</td>\n",
       "      <td>AK</td>\n",
       "      <td>326</td>\n",
       "    </tr>\n",
       "    <tr>\n",
       "      <th>1</th>\n",
       "      <td>99571</td>\n",
       "      <td>Adak</td>\n",
       "      <td>AK</td>\n",
       "      <td>160</td>\n",
       "    </tr>\n",
       "    <tr>\n",
       "      <th>2</th>\n",
       "      <td>99615</td>\n",
       "      <td>Akhiok</td>\n",
       "      <td>AK</td>\n",
       "      <td>12,899</td>\n",
       "    </tr>\n",
       "    <tr>\n",
       "      <th>3</th>\n",
       "      <td>99551</td>\n",
       "      <td>Akiachak</td>\n",
       "      <td>AK</td>\n",
       "      <td>627</td>\n",
       "    </tr>\n",
       "    <tr>\n",
       "      <th>4</th>\n",
       "      <td>99552</td>\n",
       "      <td>Akiak</td>\n",
       "      <td>AK</td>\n",
       "      <td>346</td>\n",
       "    </tr>\n",
       "  </tbody>\n",
       "</table>\n",
       "</div>"
      ],
      "text/plain": [
       "  Zip_Code      City State Pop_2010\n",
       "0    99546      Adak    AK      326\n",
       "1    99571      Adak    AK      160\n",
       "2    99615    Akhiok    AK   12,899\n",
       "3    99551  Akiachak    AK      627\n",
       "4    99552     Akiak    AK      346"
      ]
     },
     "execution_count": 6,
     "metadata": {},
     "output_type": "execute_result"
    }
   ],
   "source": [
    "## Rename columns to make things a little easier.\n",
    "df.rename(columns={'Zip Code': 'Zip_Code', 'Population (2010 Census)': 'Pop_2010' }, inplace=True)\n",
    "df.Pop_2010.replace('--', np.nan, inplace=True)\n",
    "df = df.iloc[:, :4]\n",
    "df.head()"
   ]
  },
  {
   "cell_type": "code",
   "execution_count": 9,
   "metadata": {},
   "outputs": [
    {
     "name": "stdout",
     "output_type": "stream",
     "text": [
      "<class 'pandas.core.frame.DataFrame'>\n",
      "Int64Index: 41319 entries, 0 to 41318\n",
      "Data columns (total 4 columns):\n",
      "Zip_Code    41319 non-null object\n",
      "City        41319 non-null object\n",
      "State       41319 non-null object\n",
      "Pop_2010    33498 non-null object\n",
      "dtypes: object(4)\n",
      "memory usage: 1.6+ MB\n"
     ]
    }
   ],
   "source": [
    "# Remove all rows that contain nan Zip_Code values\n",
    "df.dropna(subset=['Zip_Code'], inplace=True)\n",
    "df.info()"
   ]
  },
  {
   "cell_type": "code",
   "execution_count": 10,
   "metadata": {},
   "outputs": [
    {
     "data": {
      "text/html": [
       "<div>\n",
       "<style scoped>\n",
       "    .dataframe tbody tr th:only-of-type {\n",
       "        vertical-align: middle;\n",
       "    }\n",
       "\n",
       "    .dataframe tbody tr th {\n",
       "        vertical-align: top;\n",
       "    }\n",
       "\n",
       "    .dataframe thead th {\n",
       "        text-align: right;\n",
       "    }\n",
       "</style>\n",
       "<table border=\"1\" class=\"dataframe\">\n",
       "  <thead>\n",
       "    <tr style=\"text-align: right;\">\n",
       "      <th></th>\n",
       "      <th>Zip_Code</th>\n",
       "      <th>City</th>\n",
       "      <th>State</th>\n",
       "      <th>Pop_2010</th>\n",
       "    </tr>\n",
       "  </thead>\n",
       "  <tbody>\n",
       "    <tr>\n",
       "      <th>5488</th>\n",
       "      <td>10,190</td>\n",
       "      <td>Littleton</td>\n",
       "      <td>CO</td>\n",
       "      <td>--</td>\n",
       "    </tr>\n",
       "  </tbody>\n",
       "</table>\n",
       "</div>"
      ],
      "text/plain": [
       "     Zip_Code       City State Pop_2010\n",
       "5488   10,190  Littleton    CO       --"
      ]
     },
     "execution_count": 10,
     "metadata": {},
     "output_type": "execute_result"
    }
   ],
   "source": [
    "# In the data, a row contains an invalid zip code.\n",
    "df[df['Zip_Code'].str.contains(',')]"
   ]
  },
  {
   "cell_type": "code",
   "execution_count": 12,
   "metadata": {},
   "outputs": [
    {
     "name": "stdout",
     "output_type": "stream",
     "text": [
      "<class 'pandas.core.frame.DataFrame'>\n",
      "Int64Index: 41318 entries, 0 to 41318\n",
      "Data columns (total 4 columns):\n",
      "Zip_Code    41318 non-null object\n",
      "City        41318 non-null object\n",
      "State       41318 non-null object\n",
      "Pop_2010    33497 non-null object\n",
      "dtypes: object(4)\n",
      "memory usage: 1.6+ MB\n"
     ]
    }
   ],
   "source": [
    "# Remove that row.\n",
    "df.drop(df[df['Zip_Code'].str.contains(',')].index, inplace=True)\n",
    "df.info()"
   ]
  },
  {
   "cell_type": "code",
   "execution_count": 13,
   "metadata": {},
   "outputs": [
    {
     "name": "stdout",
     "output_type": "stream",
     "text": [
      "<class 'pandas.core.frame.DataFrame'>\n",
      "Int64Index: 41318 entries, 0 to 41318\n",
      "Data columns (total 4 columns):\n",
      "Zip_Code    41318 non-null int64\n",
      "City        41318 non-null object\n",
      "State       41318 non-null object\n",
      "Pop_2010    33497 non-null object\n",
      "dtypes: int64(1), object(3)\n",
      "memory usage: 1.6+ MB\n"
     ]
    }
   ],
   "source": [
    "# Convert column of zip codes to integers.\n",
    "df['Zip_Code'] = df.Zip_Code.astype(np.int)\n",
    "df.info()"
   ]
  },
  {
   "cell_type": "code",
   "execution_count": 45,
   "metadata": {},
   "outputs": [
    {
     "data": {
      "text/plain": [
       "SimpleZipcode(zipcode='92106', zipcode_type='Standard', major_city='San Diego', post_office_city='San Diego, CA', common_city_list=['San Diego'], county='San Diego County', state='CA', lat=32.73, lng=-117.23, timezone='Pacific', radius_in_miles=2.0, area_code_list=['619'], population=19330, population_density=3426.0, land_area_in_sqmi=5.64, water_area_in_sqmi=0.71, housing_units=8322, occupied_housing_units=7807, median_home_value=834800, median_household_income=82075, bounds_west=-117.25896, bounds_east=-117.208362, bounds_north=32.752296, bounds_south=32.66296)"
      ]
     },
     "execution_count": 45,
     "metadata": {},
     "output_type": "execute_result"
    }
   ],
   "source": [
    "search.by_zipcode('92106')"
   ]
  },
  {
   "cell_type": "code",
   "execution_count": 28,
   "metadata": {},
   "outputs": [
    {
     "data": {
      "text/plain": [
       "'34'"
      ]
     },
     "execution_count": 28,
     "metadata": {},
     "output_type": "execute_result"
    }
   ],
   "source": [
    "'3' + '4'"
   ]
  },
  {
   "cell_type": "code",
   "execution_count": 30,
   "metadata": {},
   "outputs": [],
   "source": [
    "## Using uszipcode library\n",
    "df['Pop_2010_uszipcode'] = [search.by_zipcode(str(z)).population for z in df['Zip_Code']]"
   ]
  },
  {
   "cell_type": "code",
   "execution_count": 31,
   "metadata": {},
   "outputs": [
    {
     "data": {
      "text/html": [
       "<div>\n",
       "<style scoped>\n",
       "    .dataframe tbody tr th:only-of-type {\n",
       "        vertical-align: middle;\n",
       "    }\n",
       "\n",
       "    .dataframe tbody tr th {\n",
       "        vertical-align: top;\n",
       "    }\n",
       "\n",
       "    .dataframe thead th {\n",
       "        text-align: right;\n",
       "    }\n",
       "</style>\n",
       "<table border=\"1\" class=\"dataframe\">\n",
       "  <thead>\n",
       "    <tr style=\"text-align: right;\">\n",
       "      <th></th>\n",
       "      <th>Zip_Code</th>\n",
       "      <th>City</th>\n",
       "      <th>State</th>\n",
       "      <th>Pop_2010</th>\n",
       "      <th>Pop_2010_uszipcode</th>\n",
       "    </tr>\n",
       "  </thead>\n",
       "  <tbody>\n",
       "    <tr>\n",
       "      <th>0</th>\n",
       "      <td>99546</td>\n",
       "      <td>Adak</td>\n",
       "      <td>AK</td>\n",
       "      <td>326</td>\n",
       "      <td>326.0</td>\n",
       "    </tr>\n",
       "    <tr>\n",
       "      <th>1</th>\n",
       "      <td>99571</td>\n",
       "      <td>Adak</td>\n",
       "      <td>AK</td>\n",
       "      <td>160</td>\n",
       "      <td>160.0</td>\n",
       "    </tr>\n",
       "    <tr>\n",
       "      <th>2</th>\n",
       "      <td>99615</td>\n",
       "      <td>Akhiok</td>\n",
       "      <td>AK</td>\n",
       "      <td>12,899</td>\n",
       "      <td>12899.0</td>\n",
       "    </tr>\n",
       "    <tr>\n",
       "      <th>3</th>\n",
       "      <td>99551</td>\n",
       "      <td>Akiachak</td>\n",
       "      <td>AK</td>\n",
       "      <td>627</td>\n",
       "      <td>627.0</td>\n",
       "    </tr>\n",
       "    <tr>\n",
       "      <th>4</th>\n",
       "      <td>99552</td>\n",
       "      <td>Akiak</td>\n",
       "      <td>AK</td>\n",
       "      <td>346</td>\n",
       "      <td>346.0</td>\n",
       "    </tr>\n",
       "  </tbody>\n",
       "</table>\n",
       "</div>"
      ],
      "text/plain": [
       "   Zip_Code      City State Pop_2010  Pop_2010_uszipcode\n",
       "0     99546      Adak    AK      326               326.0\n",
       "1     99571      Adak    AK      160               160.0\n",
       "2     99615    Akhiok    AK   12,899             12899.0\n",
       "3     99551  Akiachak    AK      627               627.0\n",
       "4     99552     Akiak    AK      346               346.0"
      ]
     },
     "execution_count": 31,
     "metadata": {},
     "output_type": "execute_result"
    }
   ],
   "source": [
    "df.head()"
   ]
  },
  {
   "cell_type": "code",
   "execution_count": 32,
   "metadata": {},
   "outputs": [],
   "source": [
    "## Using outside data source\n",
    "zf = pd.read_csv('https://query.data.world/s/op67ehfhbfiugjxpzpr6rk3vfouzxp')\n",
    "zf.columns = [col.replace('-', '_') for col in zf.columns]\n",
    "common = set(df.Zip_Code) & set(zf.zip_code)\n",
    "zf.set_index('zip_code', inplace=True)"
   ]
  },
  {
   "cell_type": "code",
   "execution_count": 33,
   "metadata": {},
   "outputs": [
    {
     "data": {
      "text/html": [
       "<div>\n",
       "<style scoped>\n",
       "    .dataframe tbody tr th:only-of-type {\n",
       "        vertical-align: middle;\n",
       "    }\n",
       "\n",
       "    .dataframe tbody tr th {\n",
       "        vertical-align: top;\n",
       "    }\n",
       "\n",
       "    .dataframe thead th {\n",
       "        text-align: right;\n",
       "    }\n",
       "</style>\n",
       "<table border=\"1\" class=\"dataframe\">\n",
       "  <thead>\n",
       "    <tr style=\"text-align: right;\">\n",
       "      <th></th>\n",
       "      <th>y_2016</th>\n",
       "      <th>y_2015</th>\n",
       "      <th>y_2014</th>\n",
       "      <th>y_2013</th>\n",
       "      <th>y_2012</th>\n",
       "      <th>y_2011</th>\n",
       "      <th>y_2010</th>\n",
       "      <th>aggregate</th>\n",
       "    </tr>\n",
       "    <tr>\n",
       "      <th>zip_code</th>\n",
       "      <th></th>\n",
       "      <th></th>\n",
       "      <th></th>\n",
       "      <th></th>\n",
       "      <th></th>\n",
       "      <th></th>\n",
       "      <th></th>\n",
       "      <th></th>\n",
       "    </tr>\n",
       "  </thead>\n",
       "  <tbody>\n",
       "    <tr>\n",
       "      <th>601</th>\n",
       "      <td>17800</td>\n",
       "      <td>17982</td>\n",
       "      <td>18088</td>\n",
       "      <td>18450</td>\n",
       "      <td>18544</td>\n",
       "      <td>18533</td>\n",
       "      <td>18570</td>\n",
       "      <td>127967</td>\n",
       "    </tr>\n",
       "    <tr>\n",
       "      <th>602</th>\n",
       "      <td>39716</td>\n",
       "      <td>40260</td>\n",
       "      <td>40859</td>\n",
       "      <td>41302</td>\n",
       "      <td>41640</td>\n",
       "      <td>41930</td>\n",
       "      <td>41520</td>\n",
       "      <td>287227</td>\n",
       "    </tr>\n",
       "    <tr>\n",
       "      <th>603</th>\n",
       "      <td>51565</td>\n",
       "      <td>52408</td>\n",
       "      <td>53162</td>\n",
       "      <td>53683</td>\n",
       "      <td>54540</td>\n",
       "      <td>54475</td>\n",
       "      <td>54689</td>\n",
       "      <td>374522</td>\n",
       "    </tr>\n",
       "    <tr>\n",
       "      <th>606</th>\n",
       "      <td>6320</td>\n",
       "      <td>6331</td>\n",
       "      <td>6415</td>\n",
       "      <td>6591</td>\n",
       "      <td>6593</td>\n",
       "      <td>6386</td>\n",
       "      <td>6615</td>\n",
       "      <td>45251</td>\n",
       "    </tr>\n",
       "    <tr>\n",
       "      <th>610</th>\n",
       "      <td>27976</td>\n",
       "      <td>28328</td>\n",
       "      <td>28805</td>\n",
       "      <td>28963</td>\n",
       "      <td>29141</td>\n",
       "      <td>29111</td>\n",
       "      <td>29016</td>\n",
       "      <td>201340</td>\n",
       "    </tr>\n",
       "  </tbody>\n",
       "</table>\n",
       "</div>"
      ],
      "text/plain": [
       "          y_2016  y_2015  y_2014  y_2013  y_2012  y_2011  y_2010  aggregate\n",
       "zip_code                                                                   \n",
       "601        17800   17982   18088   18450   18544   18533   18570     127967\n",
       "602        39716   40260   40859   41302   41640   41930   41520     287227\n",
       "603        51565   52408   53162   53683   54540   54475   54689     374522\n",
       "606         6320    6331    6415    6591    6593    6386    6615      45251\n",
       "610        27976   28328   28805   28963   29141   29111   29016     201340"
      ]
     },
     "execution_count": 33,
     "metadata": {},
     "output_type": "execute_result"
    }
   ],
   "source": [
    "zf.head()"
   ]
  },
  {
   "cell_type": "code",
   "execution_count": 34,
   "metadata": {},
   "outputs": [],
   "source": [
    "## Using dataworld link\n",
    "\n",
    "years = range(2010, 2017)\n",
    "na = np.nan\n",
    "\n",
    "for year in years:\n",
    "    name, yr = 'Pop_{}_dataworld'.format(year), 'y_{}'.format(year)\n",
    "    df[name] = [zf.at[x, yr] if x in common else na for x in df.Zip_Code]"
   ]
  },
  {
   "cell_type": "code",
   "execution_count": 39,
   "metadata": {},
   "outputs": [
    {
     "name": "stdout",
     "output_type": "stream",
     "text": [
      "<class 'pandas.core.frame.DataFrame'>\n",
      "Int64Index: 41318 entries, 0 to 41318\n",
      "Data columns (total 12 columns):\n",
      "Zip_Code              41318 non-null int64\n",
      "City                  41318 non-null object\n",
      "State                 41318 non-null object\n",
      "Pop_2010              33497 non-null object\n",
      "Pop_2010_uszipcode    32987 non-null float64\n",
      "Pop_2010_dataworld    32987 non-null float64\n",
      "Pop_2011_dataworld    32987 non-null float64\n",
      "Pop_2012_dataworld    32987 non-null float64\n",
      "Pop_2013_dataworld    32987 non-null float64\n",
      "Pop_2014_dataworld    32987 non-null float64\n",
      "Pop_2015_dataworld    32987 non-null float64\n",
      "Pop_2016_dataworld    32987 non-null float64\n",
      "dtypes: float64(8), int64(1), object(3)\n",
      "memory usage: 4.1+ MB\n"
     ]
    }
   ],
   "source": [
    "df.info()"
   ]
  },
  {
   "cell_type": "code",
   "execution_count": 40,
   "metadata": {},
   "outputs": [
    {
     "data": {
      "text/html": [
       "<div>\n",
       "<style scoped>\n",
       "    .dataframe tbody tr th:only-of-type {\n",
       "        vertical-align: middle;\n",
       "    }\n",
       "\n",
       "    .dataframe tbody tr th {\n",
       "        vertical-align: top;\n",
       "    }\n",
       "\n",
       "    .dataframe thead th {\n",
       "        text-align: right;\n",
       "    }\n",
       "</style>\n",
       "<table border=\"1\" class=\"dataframe\">\n",
       "  <thead>\n",
       "    <tr style=\"text-align: right;\">\n",
       "      <th></th>\n",
       "      <th>Zip_Code</th>\n",
       "      <th>City</th>\n",
       "      <th>State</th>\n",
       "      <th>Pop_2010</th>\n",
       "      <th>Pop_2010_uszipcode</th>\n",
       "      <th>Pop_2010_dataworld</th>\n",
       "      <th>Pop_2011_dataworld</th>\n",
       "      <th>Pop_2012_dataworld</th>\n",
       "      <th>Pop_2013_dataworld</th>\n",
       "      <th>Pop_2014_dataworld</th>\n",
       "      <th>Pop_2015_dataworld</th>\n",
       "      <th>Pop_2016_dataworld</th>\n",
       "    </tr>\n",
       "  </thead>\n",
       "  <tbody>\n",
       "    <tr>\n",
       "      <th>0</th>\n",
       "      <td>99546</td>\n",
       "      <td>Adak</td>\n",
       "      <td>AK</td>\n",
       "      <td>326</td>\n",
       "      <td>326.0</td>\n",
       "      <td>326.0</td>\n",
       "      <td>124.0</td>\n",
       "      <td>127.0</td>\n",
       "      <td>108.0</td>\n",
       "      <td>114.0</td>\n",
       "      <td>122.0</td>\n",
       "      <td>122.0</td>\n",
       "    </tr>\n",
       "    <tr>\n",
       "      <th>1</th>\n",
       "      <td>99571</td>\n",
       "      <td>Adak</td>\n",
       "      <td>AK</td>\n",
       "      <td>160</td>\n",
       "      <td>160.0</td>\n",
       "      <td>160.0</td>\n",
       "      <td>55.0</td>\n",
       "      <td>82.0</td>\n",
       "      <td>101.0</td>\n",
       "      <td>83.0</td>\n",
       "      <td>88.0</td>\n",
       "      <td>106.0</td>\n",
       "    </tr>\n",
       "    <tr>\n",
       "      <th>2</th>\n",
       "      <td>99615</td>\n",
       "      <td>Akhiok</td>\n",
       "      <td>AK</td>\n",
       "      <td>12,899</td>\n",
       "      <td>12899.0</td>\n",
       "      <td>12899.0</td>\n",
       "      <td>12609.0</td>\n",
       "      <td>12770.0</td>\n",
       "      <td>13009.0</td>\n",
       "      <td>13096.0</td>\n",
       "      <td>13197.0</td>\n",
       "      <td>13135.0</td>\n",
       "    </tr>\n",
       "    <tr>\n",
       "      <th>3</th>\n",
       "      <td>99551</td>\n",
       "      <td>Akiachak</td>\n",
       "      <td>AK</td>\n",
       "      <td>627</td>\n",
       "      <td>627.0</td>\n",
       "      <td>627.0</td>\n",
       "      <td>644.0</td>\n",
       "      <td>638.0</td>\n",
       "      <td>606.0</td>\n",
       "      <td>590.0</td>\n",
       "      <td>562.0</td>\n",
       "      <td>584.0</td>\n",
       "    </tr>\n",
       "    <tr>\n",
       "      <th>4</th>\n",
       "      <td>99552</td>\n",
       "      <td>Akiak</td>\n",
       "      <td>AK</td>\n",
       "      <td>346</td>\n",
       "      <td>346.0</td>\n",
       "      <td>346.0</td>\n",
       "      <td>331.0</td>\n",
       "      <td>364.0</td>\n",
       "      <td>392.0</td>\n",
       "      <td>407.0</td>\n",
       "      <td>399.0</td>\n",
       "      <td>407.0</td>\n",
       "    </tr>\n",
       "  </tbody>\n",
       "</table>\n",
       "</div>"
      ],
      "text/plain": [
       "   Zip_Code      City State Pop_2010  Pop_2010_uszipcode  Pop_2010_dataworld  \\\n",
       "0     99546      Adak    AK      326               326.0               326.0   \n",
       "1     99571      Adak    AK      160               160.0               160.0   \n",
       "2     99615    Akhiok    AK   12,899             12899.0             12899.0   \n",
       "3     99551  Akiachak    AK      627               627.0               627.0   \n",
       "4     99552     Akiak    AK      346               346.0               346.0   \n",
       "\n",
       "   Pop_2011_dataworld  Pop_2012_dataworld  Pop_2013_dataworld  \\\n",
       "0               124.0               127.0               108.0   \n",
       "1                55.0                82.0               101.0   \n",
       "2             12609.0             12770.0             13009.0   \n",
       "3               644.0               638.0               606.0   \n",
       "4               331.0               364.0               392.0   \n",
       "\n",
       "   Pop_2014_dataworld  Pop_2015_dataworld  Pop_2016_dataworld  \n",
       "0               114.0               122.0               122.0  \n",
       "1                83.0                88.0               106.0  \n",
       "2             13096.0             13197.0             13135.0  \n",
       "3               590.0               562.0               584.0  \n",
       "4               407.0               399.0               407.0  "
      ]
     },
     "execution_count": 40,
     "metadata": {},
     "output_type": "execute_result"
    }
   ],
   "source": [
    "df.head()"
   ]
  },
  {
   "cell_type": "code",
   "execution_count": 44,
   "metadata": {},
   "outputs": [
    {
     "name": "stdout",
     "output_type": "stream",
     "text": [
      "<class 'pandas.core.frame.DataFrame'>\n",
      "Int64Index: 41318 entries, 0 to 41318\n",
      "Data columns (total 12 columns):\n",
      "Zip_Code              41318 non-null int64\n",
      "City                  41318 non-null object\n",
      "State                 41318 non-null object\n",
      "Pop_2010              33497 non-null object\n",
      "Pop_2010_uszipcode    32987 non-null float64\n",
      "Pop_2010_dataworld    32987 non-null float64\n",
      "Pop_2011_dataworld    32987 non-null float64\n",
      "Pop_2012_dataworld    32987 non-null float64\n",
      "Pop_2013_dataworld    32987 non-null float64\n",
      "Pop_2014_dataworld    32987 non-null float64\n",
      "Pop_2015_dataworld    32987 non-null float64\n",
      "Pop_2016_dataworld    32987 non-null float64\n",
      "dtypes: float64(8), int64(1), object(3)\n",
      "memory usage: 4.1+ MB\n"
     ]
    }
   ],
   "source": [
    "df.info()"
   ]
  },
  {
   "cell_type": "code",
   "execution_count": 41,
   "metadata": {},
   "outputs": [],
   "source": [
    "## Write the dataframe to a csv file.\n",
    "df.to_csv('tjs_populations_by_zip.csv')"
   ]
  },
  {
   "cell_type": "raw",
   "metadata": {},
   "source": [
    "[value IF value satistifes condition ELSE other_value FOR value IN something]"
   ]
  },
  {
   "cell_type": "code",
   "execution_count": 47,
   "metadata": {},
   "outputs": [
    {
     "data": {
      "text/plain": [
       "'--'"
      ]
     },
     "execution_count": 47,
     "metadata": {},
     "output_type": "execute_result"
    }
   ],
   "source": [
    "df[df['Pop_2010_dataworld'] != df['Pop_2010_uszipcode']].loc[30, 'Pop_2010']"
   ]
  },
  {
   "cell_type": "code",
   "execution_count": 378,
   "metadata": {},
   "outputs": [
    {
     "data": {
      "text/html": [
       "<div>\n",
       "<style scoped>\n",
       "    .dataframe tbody tr th:only-of-type {\n",
       "        vertical-align: middle;\n",
       "    }\n",
       "\n",
       "    .dataframe tbody tr th {\n",
       "        vertical-align: top;\n",
       "    }\n",
       "\n",
       "    .dataframe thead th {\n",
       "        text-align: right;\n",
       "    }\n",
       "</style>\n",
       "<table border=\"1\" class=\"dataframe\">\n",
       "  <thead>\n",
       "    <tr style=\"text-align: right;\">\n",
       "      <th></th>\n",
       "      <th>Zip_Code</th>\n",
       "      <th>City</th>\n",
       "      <th>State</th>\n",
       "      <th>Pop_2010</th>\n",
       "      <th>Pop_2010_dataworld</th>\n",
       "      <th>pop_2010_uszipcode</th>\n",
       "    </tr>\n",
       "  </thead>\n",
       "  <tbody>\n",
       "    <tr>\n",
       "      <th>20</th>\n",
       "      <td>99509</td>\n",
       "      <td>Anchorage</td>\n",
       "      <td>AK</td>\n",
       "      <td>NaN</td>\n",
       "      <td>NaN</td>\n",
       "      <td>NaN</td>\n",
       "    </tr>\n",
       "    <tr>\n",
       "      <th>22</th>\n",
       "      <td>99511</td>\n",
       "      <td>Anchorage</td>\n",
       "      <td>AK</td>\n",
       "      <td>NaN</td>\n",
       "      <td>NaN</td>\n",
       "      <td>NaN</td>\n",
       "    </tr>\n",
       "    <tr>\n",
       "      <th>24</th>\n",
       "      <td>99514</td>\n",
       "      <td>Anchorage</td>\n",
       "      <td>AK</td>\n",
       "      <td>0</td>\n",
       "      <td>NaN</td>\n",
       "      <td>NaN</td>\n",
       "    </tr>\n",
       "    <tr>\n",
       "      <th>30</th>\n",
       "      <td>99520</td>\n",
       "      <td>Anchorage</td>\n",
       "      <td>AK</td>\n",
       "      <td>--</td>\n",
       "      <td>NaN</td>\n",
       "      <td>NaN</td>\n",
       "    </tr>\n",
       "    <tr>\n",
       "      <th>31</th>\n",
       "      <td>99521</td>\n",
       "      <td>Anchorage</td>\n",
       "      <td>AK</td>\n",
       "      <td>--</td>\n",
       "      <td>NaN</td>\n",
       "      <td>NaN</td>\n",
       "    </tr>\n",
       "    <tr>\n",
       "      <th>32</th>\n",
       "      <td>99522</td>\n",
       "      <td>Anchorage</td>\n",
       "      <td>AK</td>\n",
       "      <td>--</td>\n",
       "      <td>NaN</td>\n",
       "      <td>NaN</td>\n",
       "    </tr>\n",
       "    <tr>\n",
       "      <th>33</th>\n",
       "      <td>99523</td>\n",
       "      <td>Anchorage</td>\n",
       "      <td>AK</td>\n",
       "      <td>--</td>\n",
       "      <td>NaN</td>\n",
       "      <td>NaN</td>\n",
       "    </tr>\n",
       "    <tr>\n",
       "      <th>34</th>\n",
       "      <td>99524</td>\n",
       "      <td>Anchorage</td>\n",
       "      <td>AK</td>\n",
       "      <td>--</td>\n",
       "      <td>NaN</td>\n",
       "      <td>NaN</td>\n",
       "    </tr>\n",
       "    <tr>\n",
       "      <th>35</th>\n",
       "      <td>99529</td>\n",
       "      <td>Anchorage</td>\n",
       "      <td>AK</td>\n",
       "      <td>--</td>\n",
       "      <td>NaN</td>\n",
       "      <td>NaN</td>\n",
       "    </tr>\n",
       "    <tr>\n",
       "      <th>36</th>\n",
       "      <td>99530</td>\n",
       "      <td>Anchorage</td>\n",
       "      <td>AK</td>\n",
       "      <td>--</td>\n",
       "      <td>NaN</td>\n",
       "      <td>NaN</td>\n",
       "    </tr>\n",
       "  </tbody>\n",
       "</table>\n",
       "</div>"
      ],
      "text/plain": [
       "    Zip_Code       City State Pop_2010  Pop_2010_dataworld  pop_2010_uszipcode\n",
       "20     99509  Anchorage    AK      NaN                 NaN                 NaN\n",
       "22     99511  Anchorage    AK      NaN                 NaN                 NaN\n",
       "24     99514  Anchorage    AK        0                 NaN                 NaN\n",
       "30     99520  Anchorage    AK       --                 NaN                 NaN\n",
       "31     99521  Anchorage    AK       --                 NaN                 NaN\n",
       "32     99522  Anchorage    AK       --                 NaN                 NaN\n",
       "33     99523  Anchorage    AK       --                 NaN                 NaN\n",
       "34     99524  Anchorage    AK       --                 NaN                 NaN\n",
       "35     99529  Anchorage    AK       --                 NaN                 NaN\n",
       "36     99530  Anchorage    AK       --                 NaN                 NaN"
      ]
     },
     "execution_count": 378,
     "metadata": {},
     "output_type": "execute_result"
    }
   ],
   "source": [
    "df[df.pop_2010_uszipcode != df.Pop_2010_dataworld][:10]"
   ]
  },
  {
   "cell_type": "code",
   "execution_count": 57,
   "metadata": {},
   "outputs": [],
   "source": [
    "## Write out to csv file.\n",
    "df.to_csv('tjs_zipcodes_out.csv')"
   ]
  },
  {
   "cell_type": "code",
   "execution_count": 48,
   "metadata": {},
   "outputs": [
    {
     "name": "stdout",
     "output_type": "stream",
     "text": [
      "<class 'pandas.core.frame.DataFrame'>\n",
      "Int64Index: 41318 entries, 0 to 41318\n",
      "Data columns (total 12 columns):\n",
      "Zip_Code              41318 non-null int64\n",
      "City                  41318 non-null object\n",
      "State                 41318 non-null object\n",
      "Pop_2010              26841 non-null object\n",
      "Pop_2010_uszipcode    32987 non-null float64\n",
      "Pop_2010_dataworld    32987 non-null float64\n",
      "Pop_2011_dataworld    32987 non-null float64\n",
      "Pop_2012_dataworld    32987 non-null float64\n",
      "Pop_2013_dataworld    32987 non-null float64\n",
      "Pop_2014_dataworld    32987 non-null float64\n",
      "Pop_2015_dataworld    32987 non-null float64\n",
      "Pop_2016_dataworld    32987 non-null float64\n",
      "dtypes: float64(8), int64(1), object(3)\n",
      "memory usage: 4.1+ MB\n"
     ]
    }
   ],
   "source": [
    "df.info()"
   ]
  },
  {
   "cell_type": "code",
   "execution_count": null,
   "metadata": {},
   "outputs": [],
   "source": []
  }
 ],
 "metadata": {
  "kernelspec": {
   "display_name": "Python 3",
   "language": "python",
   "name": "python3"
  },
  "language_info": {
   "codemirror_mode": {
    "name": "ipython",
    "version": 3
   },
   "file_extension": ".py",
   "mimetype": "text/x-python",
   "name": "python",
   "nbconvert_exporter": "python",
   "pygments_lexer": "ipython3",
   "version": "3.6.8"
  }
 },
 "nbformat": 4,
 "nbformat_minor": 2
}
